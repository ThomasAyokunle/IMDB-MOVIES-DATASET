{
 "cells": [
  {
   "cell_type": "markdown",
   "id": "1db83ad9",
   "metadata": {},
   "source": [
    "# IMDB MOVIES DATASET"
   ]
  },
  {
   "cell_type": "code",
   "execution_count": null,
   "id": "d7a7c0db",
   "metadata": {},
   "outputs": [],
   "source": [
    "import numpy as np\n",
    "import pandas as pd"
   ]
  },
  {
   "cell_type": "markdown",
   "id": "23c6d14d",
   "metadata": {},
   "source": [
    "loading the csv file into a dataframe"
   ]
  },
  {
   "cell_type": "code",
   "execution_count": null,
   "id": "3b85f665",
   "metadata": {},
   "outputs": [],
   "source": [
    "# reading file and escaping unicode decode error \n",
    "messy_data = pd.read_csv('Messy_data.csv',  encoding='unicode_escape')  "
   ]
  },
  {
   "cell_type": "markdown",
   "id": "fed8ce24",
   "metadata": {},
   "source": [
    "viewing the content of the dataframe for data inspection"
   ]
  },
  {
   "cell_type": "code",
   "execution_count": null,
   "id": "c7c094ef",
   "metadata": {},
   "outputs": [],
   "source": [
    " messy_data"
   ]
  },
  {
   "cell_type": "code",
   "execution_count": null,
   "id": "9ec2ec26",
   "metadata": {},
   "outputs": [],
   "source": [
    "pd.set_option('display.max_rows', messy_data.shape[0]+1)\n",
    "print(messy_data)"
   ]
  },
  {
   "cell_type": "code",
   "execution_count": 68,
   "id": "7872b393",
   "metadata": {},
   "outputs": [
    {
     "data": {
      "text/plain": [
       "['IMBD title ID',\n",
       " 'Original titlÊ',\n",
       " 'Release year',\n",
       " 'Genrë¨',\n",
       " 'Duration',\n",
       " 'Country',\n",
       " 'Content Rating',\n",
       " 'Director',\n",
       " 'Income',\n",
       " ' Votes ',\n",
       " 'Score']"
      ]
     },
     "execution_count": 68,
     "metadata": {},
     "output_type": "execute_result"
    }
   ],
   "source": [
    "column_names = list(messy_data.columns.values)\n",
    "column_names"
   ]
  },
  {
   "cell_type": "markdown",
   "id": "1bc88460",
   "metadata": {},
   "source": [
    "# cleaning rows under column 'release year'"
   ]
  },
  {
   "cell_type": "code",
   "execution_count": null,
   "id": "964cb0d8",
   "metadata": {},
   "outputs": [],
   "source": [
    "# convert column Release year to string to perform string functions\n",
    "messy_data['Release year'] = messy_data['Release year'].astype(str)"
   ]
  },
  {
   "cell_type": "code",
   "execution_count": null,
   "id": "5fe1b167",
   "metadata": {},
   "outputs": [],
   "source": [
    "messy_data['Release year'] = messy_data['Release year'].replace(['The 6th of marzo, year 1951'], '06-03-1951')"
   ]
  },
  {
   "cell_type": "code",
   "execution_count": null,
   "id": "5cffcf4b",
   "metadata": {},
   "outputs": [],
   "source": [
    "messy_data['Release year'] = messy_data['Release year'].replace(['1984-02-34'], '1984-02-24')"
   ]
  },
  {
   "cell_type": "code",
   "execution_count": null,
   "id": "81d862df",
   "metadata": {},
   "outputs": [],
   "source": [
    "messy_data['Release year'] = messy_data['Release year'].replace(['1976-13-24'], '1976-12-24')"
   ]
  },
  {
   "cell_type": "code",
   "execution_count": null,
   "id": "d98aff91",
   "metadata": {},
   "outputs": [],
   "source": [
    "messy_data['Release year']= pd.to_datetime(messy_data['Release year'], format='mixed')"
   ]
  },
  {
   "cell_type": "markdown",
   "id": "1b89688e",
   "metadata": {},
   "source": [
    "# cleaning data under column 'Country'"
   ]
  },
  {
   "cell_type": "code",
   "execution_count": null,
   "id": "982d331b",
   "metadata": {},
   "outputs": [],
   "source": [
    "messy_data['Country'].unique()"
   ]
  },
  {
   "cell_type": "code",
   "execution_count": null,
   "id": "93f5046a",
   "metadata": {},
   "outputs": [],
   "source": [
    "messy_data['Country'] = messy_data['Country'].replace(['US', 'US.'], 'USA')"
   ]
  },
  {
   "cell_type": "code",
   "execution_count": null,
   "id": "2a501b37",
   "metadata": {},
   "outputs": [],
   "source": [
    "messy_data['Country'] = messy_data['Country'].replace(['New Zesland', 'New Zeland'], 'New Zealand')"
   ]
  },
  {
   "cell_type": "code",
   "execution_count": null,
   "id": "c43931a9",
   "metadata": {},
   "outputs": [],
   "source": [
    "messy_data['Country'] = messy_data['Country'].replace(['Italy1'], 'Italy')"
   ]
  },
  {
   "cell_type": "markdown",
   "id": "40b4094b",
   "metadata": {},
   "source": [
    "Remove column 'Unnamed: 8'"
   ]
  },
  {
   "cell_type": "code",
   "execution_count": null,
   "id": "01ee589c",
   "metadata": {},
   "outputs": [],
   "source": [
    "# remove column unnamed, contains no data\n",
    "messy_data.drop('Unnamed: 8', inplace = True, axis=1)"
   ]
  },
  {
   "cell_type": "code",
   "execution_count": null,
   "id": "0a76f52b",
   "metadata": {},
   "outputs": [],
   "source": [
    "# cleaning data under column 'Income'"
   ]
  },
  {
   "cell_type": "code",
   "execution_count": null,
   "id": "358810b4",
   "metadata": {},
   "outputs": [],
   "source": [
    "messy_data['Income'] = messy_data['Income'].astype(str)"
   ]
  },
  {
   "cell_type": "code",
   "execution_count": null,
   "id": "036ef7ed",
   "metadata": {},
   "outputs": [],
   "source": [
    "messy_data['Income'] = messy_data['Income'].str.replace('$', '')"
   ]
  },
  {
   "cell_type": "code",
   "execution_count": null,
   "id": "0b707a34",
   "metadata": {},
   "outputs": [],
   "source": [
    "messy_data['Income'] = messy_data['Income'].str.replace(',', '')"
   ]
  },
  {
   "cell_type": "code",
   "execution_count": null,
   "id": "de589a31",
   "metadata": {},
   "outputs": [],
   "source": [
    "messy_data['Income'] = messy_data['Income'].str.replace('4o8035783', '408035783')"
   ]
  },
  {
   "cell_type": "code",
   "execution_count": null,
   "id": "e85103cf",
   "metadata": {},
   "outputs": [],
   "source": [
    "messy_data['Income']= messy_data['Income'].replace('nan',0)"
   ]
  },
  {
   "cell_type": "code",
   "execution_count": null,
   "id": "87e9390a",
   "metadata": {},
   "outputs": [],
   "source": [
    "# convert column 'Income' to numeric\n",
    "messy_data['Income'] = pd.to_numeric(messy_data['Income'])"
   ]
  },
  {
   "cell_type": "markdown",
   "id": "5be9ee8e",
   "metadata": {},
   "source": [
    "cleaning rows in column ' votes '"
   ]
  },
  {
   "cell_type": "code",
   "execution_count": null,
   "id": "26dda1ad",
   "metadata": {},
   "outputs": [],
   "source": [
    "messy_data[' Votes '] = messy_data[' Votes '].astype('str')"
   ]
  },
  {
   "cell_type": "code",
   "execution_count": null,
   "id": "1f38f6f4",
   "metadata": {},
   "outputs": [],
   "source": [
    "messy_data[' Votes '] = messy_data[' Votes '].str.replace('.', '')"
   ]
  },
  {
   "cell_type": "code",
   "execution_count": null,
   "id": "6b43e06b",
   "metadata": {},
   "outputs": [],
   "source": [
    "messy_data[' Votes '] = pd.to_numeric(messy_data[' Votes '], errors='coerce')"
   ]
  },
  {
   "cell_type": "markdown",
   "id": "aa3ceecc",
   "metadata": {},
   "source": [
    "cleaning rows in column 'Scores'"
   ]
  },
  {
   "cell_type": "code",
   "execution_count": null,
   "id": "91772640",
   "metadata": {},
   "outputs": [],
   "source": [
    "messy_data['Score'] = messy_data['Score'].astype(str)"
   ]
  },
  {
   "cell_type": "code",
   "execution_count": null,
   "id": "83283964",
   "metadata": {},
   "outputs": [],
   "source": [
    "messy_data['Score'] = messy_data['Score'].replace(['8,9f', '9,.0', '8..8','8:08','8.7.', '8,7e-0','8,8e-0', '8,6'], ['8.9', '9.0', '8.8', '8.8','8.7','8.7', '8.8', '8.6'])"
   ]
  },
  {
   "cell_type": "code",
   "execution_count": null,
   "id": "3bb28f48",
   "metadata": {},
   "outputs": [],
   "source": [
    "messy_data['Score']= messy_data['Score'].replace('nan',0)"
   ]
  },
  {
   "cell_type": "code",
   "execution_count": null,
   "id": "51d03016",
   "metadata": {},
   "outputs": [],
   "source": [
    "messy_data['Score'] = pd.to_numeric(messy_data['Score'])"
   ]
  },
  {
   "cell_type": "markdown",
   "id": "7fa60a5e",
   "metadata": {},
   "source": [
    "cleaning rows in column 'content Rating'"
   ]
  },
  {
   "cell_type": "code",
   "execution_count": null,
   "id": "39a6c95e",
   "metadata": {},
   "outputs": [],
   "source": [
    "messy_data['Content Rating'] = messy_data['Content Rating'].astype(str)"
   ]
  },
  {
   "cell_type": "code",
   "execution_count": null,
   "id": "530c0a1d",
   "metadata": {},
   "outputs": [],
   "source": [
    "messy_data['Content Rating']= messy_data['Content Rating'].replace(['NaN','nan'], 'PG')"
   ]
  },
  {
   "cell_type": "code",
   "execution_count": null,
   "id": "21a2b656",
   "metadata": {},
   "outputs": [],
   "source": [
    "messy_data['Content Rating']= messy_data['Content Rating'].replace(['Approved', 'Not Rated', 'Unrated'], 'No Rating')"
   ]
  },
  {
   "cell_type": "code",
   "execution_count": null,
   "id": "948512de",
   "metadata": {},
   "outputs": [],
   "source": [
    "messy_data.dropna(inplace = True)"
   ]
  },
  {
   "cell_type": "markdown",
   "id": "a0bb4557",
   "metadata": {},
   "source": [
    "cleaning column 'Duration'"
   ]
  },
  {
   "cell_type": "code",
   "execution_count": null,
   "id": "5a15ca54",
   "metadata": {},
   "outputs": [],
   "source": [
    "messy_data['Duration']= messy_data['Duration'].replace(['Not Applicable', '-', '178c', 'Nan', 'Inf'], ['124', '133', '178', '195', '139'])"
   ]
  },
  {
   "cell_type": "code",
   "execution_count": null,
   "id": "354c4059",
   "metadata": {},
   "outputs": [],
   "source": [
    "# updating value of a column using the loc function\n",
    "messy_data.loc[4,\"Duration\"]= '154'"
   ]
  },
  {
   "cell_type": "code",
   "execution_count": null,
   "id": "ab91b8d3",
   "metadata": {},
   "outputs": [],
   "source": [
    " messy_data[\"Duration\"]= messy_data[\"Duration\"].astype(int)"
   ]
  },
  {
   "cell_type": "code",
   "execution_count": null,
   "id": "25d2d54c",
   "metadata": {},
   "outputs": [],
   "source": [
    "messy_data['Duration']=pd.to_datetime(messy_data.Duration, unit='m').dt.strftime('%H:%M')"
   ]
  },
  {
   "cell_type": "code",
   "execution_count": null,
   "id": "d8fbe627",
   "metadata": {},
   "outputs": [],
   "source": [
    "# dumping the cleaned file in a csv format\n",
    "messy_data.to_csv('cleaned_copy.csv')"
   ]
  },
  {
   "cell_type": "code",
   "execution_count": null,
   "id": "6be0dfc1",
   "metadata": {},
   "outputs": [],
   "source": []
  }
 ],
 "metadata": {
  "kernelspec": {
   "display_name": "Python 3 (ipykernel)",
   "language": "python",
   "name": "python3"
  },
  "language_info": {
   "codemirror_mode": {
    "name": "ipython",
    "version": 3
   },
   "file_extension": ".py",
   "mimetype": "text/x-python",
   "name": "python",
   "nbconvert_exporter": "python",
   "pygments_lexer": "ipython3",
   "version": "3.11.1"
  }
 },
 "nbformat": 4,
 "nbformat_minor": 5
}
